{
 "cells": [
  {
   "cell_type": "code",
   "execution_count": null,
   "id": "852a8179-2f48-4224-b04f-8f7b9203ddba",
   "metadata": {},
   "outputs": [
    {
     "name": "stdin",
     "output_type": "stream",
     "text": [
      "V=  1\n"
     ]
    },
    {
     "name": "stdout",
     "output_type": "stream",
     "text": [
      "[1.0, 1.0]\n"
     ]
    },
    {
     "name": "stdin",
     "output_type": "stream",
     "text": [
      "V=  0.96\n"
     ]
    },
    {
     "name": "stdout",
     "output_type": "stream",
     "text": [
      "[0.5625, 1.7777777777777777]\n"
     ]
    },
    {
     "name": "stdin",
     "output_type": "stream",
     "text": [
      "V=  0.9\n"
     ]
    },
    {
     "name": "stdout",
     "output_type": "stream",
     "text": [
      "[0.39286445838501893, 2.545407146553252]\n"
     ]
    },
    {
     "name": "stdin",
     "output_type": "stream",
     "text": [
      "V=  0.8\n"
     ]
    },
    {
     "name": "stdout",
     "output_type": "stream",
     "text": [
      "[0.25, 3.999999999999999]\n"
     ]
    },
    {
     "name": "stdin",
     "output_type": "stream",
     "text": [
      "V=  0.5\n"
     ]
    },
    {
     "name": "stdout",
     "output_type": "stream",
     "text": [
      "[0.07179676972449123, 13.928203230275509]\n"
     ]
    }
   ],
   "source": [
    "# Given values\n",
    "lambda_1 = 436  # nm, wavelength of the first light\n",
    "m1 = 4 - 0.5  # 4th minimum for destructive interference\n",
    "m2 = 3  # 3rd maximum for constructive interference\n",
    "\n",
    "# Solve for the second wavelength\n",
    "lambda_2 = (m1 * lambda_1) / m2\n",
    "lambda_2\n"
   ]
  },
  {
   "cell_type": "code",
   "execution_count": null,
   "id": "5584c8e1-0802-4f3d-8e95-4daf504b5f56",
   "metadata": {},
   "outputs": [],
   "source": []
  }
 ],
 "metadata": {
  "kernelspec": {
   "display_name": "Python 3 (ipykernel)",
   "language": "python",
   "name": "python3"
  },
  "language_info": {
   "codemirror_mode": {
    "name": "ipython",
    "version": 3
   },
   "file_extension": ".py",
   "mimetype": "text/x-python",
   "name": "python",
   "nbconvert_exporter": "python",
   "pygments_lexer": "ipython3",
   "version": "3.11.9"
  }
 },
 "nbformat": 4,
 "nbformat_minor": 5
}
