{
 "cells": [
  {
   "cell_type": "code",
   "execution_count": 3,
   "id": "0c8e1634-5db2-42f9-a3a6-a37c258cf3d5",
   "metadata": {},
   "outputs": [
    {
     "data": {
      "text/plain": [
       "(4500000.0, 8000000.0, 6000000.000000001, 18500000.0, 0.96)"
      ]
     },
     "execution_count": 3,
     "metadata": {},
     "output_type": "execute_result"
    }
   ],
   "source": [
    "import math\n",
    "# Amplitudes of the electric fields (in kV/m converted to V/m)\n",
    "E1 = 3 * 10**3  # V/m\n",
    "E2 = 4 * 10**3  # V/m\n",
    "# Phase difference due to path length\n",
    "delta_phi = math.pi / 3  # in radians\n",
    "# (a) Calculate the irradiances I1 and I2 of the individual beams\n",
    "I1 = (E1**2) / (2)  # in W/m^2\n",
    "I2 = (E2**2) / (2)  # in W/m^2\n",
    "# (b) Calculate the irradiance I12 due to interference\n",
    "I12 = 2 * math.sqrt(I1 * I2) * math.cos(delta_phi)  # in W/m^2\n",
    "# (c) Calculate the net irradiance\n",
    "I_net = I1 + I2 + I12  # in W/m^2\n",
    "# (d) Calculate the fringe visibility V\n",
    "I_max = (math.sqrt(I1) + math.sqrt(I2))**2  # in W/m^2\n",
    "I_min = (math.sqrt(I1) - math.sqrt(I2))**2  # in W/m^2\n",
    "V = (I_max - I_min) / (I_max + I_min)\n",
    "I1, I2, I12, I_net, V\n"
   ]
  },
  {
   "cell_type": "code",
   "execution_count": null,
   "id": "bca649e0-56cf-4630-8ea9-3f9049c9c20c",
   "metadata": {},
   "outputs": [],
   "source": []
  }
 ],
 "metadata": {
  "kernelspec": {
   "display_name": "Python 3 (ipykernel)",
   "language": "python",
   "name": "python3"
  },
  "language_info": {
   "codemirror_mode": {
    "name": "ipython",
    "version": 3
   },
   "file_extension": ".py",
   "mimetype": "text/x-python",
   "name": "python",
   "nbconvert_exporter": "python",
   "pygments_lexer": "ipython3",
   "version": "3.11.9"
  }
 },
 "nbformat": 4,
 "nbformat_minor": 5
}
